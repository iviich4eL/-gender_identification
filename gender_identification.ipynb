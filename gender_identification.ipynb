{
 "cells": [
  {
   "cell_type": "markdown",
   "metadata": {},
   "source": [
    "# Определение пола автора по сообщению.\n",
    "Выполнил: Татаренко Михаил, группа 306\n"
   ]
  },
  {
   "cell_type": "code",
   "execution_count": 14,
   "metadata": {},
   "outputs": [],
   "source": [
    "from sklearn.model_selection import learning_curve\n",
    "from sklearn.model_selection import ShuffleSplit\n",
    "\n",
    "from sklearn.linear_model import LogisticRegression\n",
    "from sklearn.naive_bayes import MultinomialNB\n",
    "from sklearn.model_selection import cross_val_score\n",
    "import time\n",
    "import numpy as np"
   ]
  },
  {
   "cell_type": "markdown",
   "metadata": {},
   "source": [
    "Цель работы состоит в определении пола автора сообщения по сообщению, написанном на естественном языке.\n",
    "План работы:\n",
    "    1. Составить файл с пользователями, для которых известен пол.\n",
    "    2. Чистка сообщений пользователей от ненужной информации.\n",
    "    3. Лексикографическая сортировка датасета.\n",
    "    4. Конкатенация сообщений одного автора.\n",
    "    5. Обучение классфикатора, вывод score\n",
    "    6. Сравнение разных подходов"
   ]
  },
  {
   "cell_type": "markdown",
   "metadata": {},
   "source": [
    "Для начала определеим нужные нам функции:"
   ]
  },
  {
   "cell_type": "code",
   "execution_count": 4,
   "metadata": {},
   "outputs": [],
   "source": [
    "def startTimer():\n",
    "    print(\"start\")\n",
    "    start = time.time()\n",
    "    \n",
    "    return start\n",
    "\n",
    "def endTimer(start):\n",
    "    end = time.time()\n",
    "    print(\"Time in minutes: \", (end - start) / 60)\n",
    "    print(\"end\")\n",
    "    \n",
    "def run(classifier, X, y):\n",
    "    start = startTimer()\n",
    "\n",
    "    scores = cross_val_score(classifier, X, y, cv=3, n_jobs=-1)\n",
    "\n",
    "    print('Scores %s' % scores)\n",
    "    print('Mean scores: %2f' %scores.mean())\n",
    "\n",
    "    end = endTimer(start)"
   ]
  },
  {
   "cell_type": "code",
   "execution_count": 15,
   "metadata": {},
   "outputs": [],
   "source": [
    "from matplotlib import pyplot as plt\n",
    "\n",
    "def plot_learning_curve(estimator, title, X, y, ylim=None, cv=None,\n",
    "                        n_jobs=None, train_sizes=np.linspace(.1, 1.0, 5)):\n",
    "    \n",
    "    plt.figure()\n",
    "    plt.title(title)\n",
    "    if ylim is not None:\n",
    "        plt.ylim(*ylim)\n",
    "    plt.xlabel(\"Training examples\")\n",
    "    plt.ylabel(\"Score\")\n",
    "    train_sizes, train_scores, test_scores = learning_curve(\n",
    "        estimator, X, y, cv=cv, n_jobs=n_jobs, train_sizes=train_sizes)\n",
    "    train_scores_mean = np.mean(train_scores, axis=1)\n",
    "    train_scores_std = np.std(train_scores, axis=1)\n",
    "    test_scores_mean = np.mean(test_scores, axis=1)\n",
    "    test_scores_std = np.std(test_scores, axis=1)\n",
    "    plt.grid()\n",
    "\n",
    "    plt.fill_between(train_sizes, train_scores_mean - train_scores_std,\n",
    "                     train_scores_mean + train_scores_std, alpha=0.1,\n",
    "                     color=\"r\")\n",
    "    plt.fill_between(train_sizes, test_scores_mean - test_scores_std,\n",
    "                     test_scores_mean + test_scores_std, alpha=0.1, color=\"g\")\n",
    "    plt.plot(train_sizes, train_scores_mean, 'o-', color=\"r\",\n",
    "             label=\"Training score\")\n",
    "    plt.plot(train_sizes, test_scores_mean, 'o-', color=\"g\",\n",
    "             label=\"Cross-validation score\")\n",
    "\n",
    "    plt.legend(loc=\"best\")\n",
    "    return plt"
   ]
  },
  {
   "cell_type": "code",
   "execution_count": 5,
   "metadata": {},
   "outputs": [],
   "source": [
    "import json\n",
    "\n",
    "def process_data(file_name, number_of_rows):\n",
    "    rows_list = list()\n",
    "    \n",
    "    number= 0 \n",
    "    for line in open(file_name, 'r', encoding='utf-8'):\n",
    "        data = json.loads(line)\n",
    "        rows_list.append(data)\n",
    "        number +=1\n",
    "        if number == number_of_rows:\n",
    "            break\n",
    "    \n",
    "    return rows_list\n",
    "    "
   ]
  },
  {
   "cell_type": "markdown",
   "metadata": {},
   "source": [
    "Вывод первых 10 строк файла messages.jsonlines"
   ]
  },
  {
   "cell_type": "code",
   "execution_count": 9,
   "metadata": {},
   "outputs": [
    {
     "name": "stdout",
     "output_type": "stream",
     "text": [
      "{\"text\": \"[Волейболь], не, мне лень и тебе наверно тоже\", \"author\": 6702230679382370046}\n",
      "\n",
      "{\"text\": \"я ваще тиктоки снимаю ебните меня пж\", \"author\": 6702230679382370046}\n",
      "\n",
      "{\"text\": \"[Лариса], екарный бабай.......\", \"author\": 4316553474255117951}\n",
      "\n",
      "{\"text\": \"Берейік*\", \"author\": 6140011286109608067}\n",
      "\n",
      "{\"text\": \"Еще как уничтожаем :D\", \"author\": 6973438300190022994}\n",
      "\n",
      "{\"text\": \"Да не особо, спать хотим :з\", \"author\": 2563610028761929896}\n",
      "\n",
      "{\"text\": \"Это стоило ожиданий :3\", \"author\": 6973438300190022994}\n",
      "\n",
      "{\"text\": \"Просто ваау\", \"author\": 3307351359150187073}\n",
      "\n",
      "{\"text\": \"Как же круто\", \"author\": 3416365457596350211}\n",
      "\n",
      "{\"text\": \"Ключ?\", \"author\": 6705271266534766671}\n",
      "\n"
     ]
    }
   ],
   "source": [
    "number = 10\n",
    "for line in open('messages.jsonlines', 'r', encoding='utf-8'):\n",
    "    print(line)\n",
    "    number -= 1\n",
    "    if (number == 0):\n",
    "        break"
   ]
  },
  {
   "cell_type": "markdown",
   "metadata": {},
   "source": [
    "Вывод первых 10 строк файла public.jsonlines"
   ]
  },
  {
   "cell_type": "code",
   "execution_count": 13,
   "metadata": {},
   "outputs": [
    {
     "name": "stdout",
     "output_type": "stream",
     "text": [
      "{\"author\": 2298419188639097585, \"gender\": \"male\"}\n",
      "\n",
      "{\"author\": 8171608141356010324, \"gender\": \"female\"}\n",
      "\n",
      "{\"author\": 2239623515650098771, \"gender\": \"male\"}\n",
      "\n",
      "{\"author\": 6559014502293239281, \"gender\": \"male\"}\n",
      "\n",
      "{\"author\": 3603677470220995862, \"gender\": \"female\"}\n",
      "\n",
      "{\"author\": 5617921399614647264, \"gender\": \"female\"}\n",
      "\n",
      "{\"author\": 1428712895612072865, \"gender\": \"female\"}\n",
      "\n",
      "{\"author\": 3090286998669764786, \"gender\": \"male\"}\n",
      "\n",
      "{\"author\": 5849027016346098950, \"gender\": \"male\"}\n",
      "\n",
      "{\"author\": 638629422429114713, \"gender\": \"male\"}\n",
      "\n"
     ]
    }
   ],
   "source": [
    "number = 10\n",
    "for line in open('public.jsonlines', 'r', encoding='utf-8'):\n",
    "    print(line)\n",
    "    number -= 1\n",
    "    if (number == 0):\n",
    "        break"
   ]
  },
  {
   "cell_type": "markdown",
   "metadata": {},
   "source": [
    "Из файлов messages.jsonlines.txt и public.jsonlines.txt составляем файл gender_messages.jsonlines.txt, в котором содержатся пользователи с известным полом."
   ]
  },
  {
   "cell_type": "code",
   "execution_count": 15,
   "metadata": {},
   "outputs": [
    {
     "name": "stdout",
     "output_type": "stream",
     "text": [
      "Start\n",
      "Time in minutes:  13.192520987987518\n",
      "Number of lines:  0\n",
      "End\n"
     ]
    }
   ],
   "source": [
    "import json\n",
    "import time\n",
    "\n",
    "id_gender_dict = dict()\n",
    "\n",
    "def process_data_users(line):\n",
    "    data = json.loads(line)\n",
    "    id_gender_dict[data['author']] = data['gender']\n",
    "\n",
    "def process_data_messages(line, output):\n",
    "    data = json.loads(line)\n",
    "    gender = id_gender_dict.get(data['author'], None)\n",
    "    if (gender != None):\n",
    "        data['gender'] = gender\n",
    "        data.update(data)\n",
    "        json.dump({\"author\" : data['author'], \"text\" : data['text'], \"gender\" : data[\"gender\"]}, output, ensure_ascii=False)\n",
    "        output.write('\\n')\n",
    "\n",
    "print(\"Start\")\n",
    "start = time.time()\n",
    "        \n",
    "for line in open('public.jsonlines',  encoding='utf-8'):\n",
    "    process_data_users(line)\n",
    "    \n",
    "with open('gender_messages.jsonlines', 'w',  encoding='utf-8') as output:\n",
    "    for line in open('messages.jsonlines', 'r', encoding='utf-8'):\n",
    "        process_data_messages(line, output)\n",
    "\n",
    "end = time.time()\n",
    "print(\"Time in minutes: \", (end - start) / 60)\n",
    "print(\"Number of lines: \", number)\n",
    "print(\"End\")"
   ]
  },
  {
   "cell_type": "markdown",
   "metadata": {},
   "source": [
    "Вывод первых 10 строк получившегося файла: gender_messages.jsonlines.txt"
   ]
  },
  {
   "cell_type": "code",
   "execution_count": 18,
   "metadata": {},
   "outputs": [
    {
     "name": "stdout",
     "output_type": "stream",
     "text": [
      "{\"author\": 4316553474255117951, \"text\": \"[Лариса], екарный бабай.......\", \"gender\": \"female\"}\n",
      "\n",
      "{\"author\": 6140011286109608067, \"text\": \"Берейік*\", \"gender\": \"female\"}\n",
      "\n",
      "{\"author\": 6973438300190022994, \"text\": \"Еще как уничтожаем :D\", \"gender\": \"female\"}\n",
      "\n",
      "{\"author\": 6973438300190022994, \"text\": \"Это стоило ожиданий :3\", \"gender\": \"female\"}\n",
      "\n",
      "{\"author\": 3416365457596350211, \"text\": \"Как же круто\", \"gender\": \"female\"}\n",
      "\n",
      "{\"author\": 5608318040041581784, \"text\": \"[Сергей], не подходит, менялся замок\", \"gender\": \"male\"}\n",
      "\n",
      "{\"author\": 5608318040041581784, \"text\": \"[Сергей], лансер 9\", \"gender\": \"male\"}\n",
      "\n",
      "{\"author\": 8308774534622922643, \"text\": \"На Бмв такой же случай был как у вас , привезли доп.аккум, разобрали подсветку номера , сняли лампочку , плюс минус куда лампочка вставляется и вуаля\", \"gender\": \"male\"}\n",
      "\n",
      "{\"author\": 8308774534622922643, \"text\": \"Но может у вас и не прокатит \", \"gender\": \"male\"}\n",
      "\n",
      "{\"author\": 2779091484097155185, \"text\": \"У меня есть 1000просмотров но нет 500 подпишеков\", \"gender\": \"male\"}\n",
      "\n"
     ]
    }
   ],
   "source": [
    "number = 10\n",
    "for line in open('gender_messages.jsonlines', 'r', encoding='utf-8'):\n",
    "    print(line)\n",
    "    number -= 1\n",
    "    if (number == 0):\n",
    "        break"
   ]
  },
  {
   "cell_type": "markdown",
   "metadata": {},
   "source": [
    "В файле gender_messages.jsonlines.txt специально изменён порядок ключей, чтобы в дальнейшем можно было бы выполнить сортировку в лексикографическом порядке. \n",
    "\n",
    "Однако сначала необходимо почистить сообщения от:\n",
    "1. [user_name]\n",
    "2. e-mail\n",
    "3. hastags\n",
    "4. Знаки пунктуации.\n",
    "5. Стоп слова (русский язык).\n",
    "6. Цифры"
   ]
  },
  {
   "cell_type": "code",
   "execution_count": 21,
   "metadata": {},
   "outputs": [
    {
     "name": "stderr",
     "output_type": "stream",
     "text": [
      "[nltk_data] Downloading package stopwords to\n",
      "[nltk_data]     C:\\Users\\Mich4\\AppData\\Roaming\\nltk_data...\n",
      "[nltk_data]   Unzipping corpora\\stopwords.zip.\n"
     ]
    },
    {
     "data": {
      "text/plain": [
       "True"
      ]
     },
     "execution_count": 21,
     "metadata": {},
     "output_type": "execute_result"
    }
   ],
   "source": [
    "import nltk\n",
    "nltk.download('stopwords')"
   ]
  },
  {
   "cell_type": "code",
   "execution_count": 22,
   "metadata": {},
   "outputs": [
    {
     "name": "stdout",
     "output_type": "stream",
     "text": [
      "start\n",
      "Time in minutes:  38.090881049633026\n",
      "end\n"
     ]
    }
   ],
   "source": [
    "import json\n",
    "import time\n",
    "import re\n",
    "import nltk\n",
    "import string\n",
    "\n",
    "from nltk.corpus import stopwords\n",
    "\n",
    "stop_rus = stopwords.words('russian')\n",
    "\n",
    "pattern_site = re.compile(r'^https?:\\/\\/.*[\\r\\n]*')\n",
    "pattern_hashtag = re.compile(r'#(\\w+)')\n",
    "pattern_name = re.compile(r'\\[[^)]*\\]')\n",
    "\n",
    "def process_data_messages(line, output):\n",
    "    data = json.loads(line)   \n",
    "    message = data[\"text\"]\n",
    "    \n",
    "    message = re.sub(pattern_name, '', message) # 1. Удаление [user_name]\n",
    "    message = [\n",
    "        re.sub(pattern_site, '', word) and      # 2. Удаление e-mail\n",
    "        re.sub(pattern_hashtag, '', word)       # 3. Удаление hastags\n",
    "        for word in message.split()\n",
    "    ]    \n",
    "    \n",
    "    message = list(filter(None, message))\n",
    "    message = \" \".join(message)\n",
    "    \n",
    "    for punct in string.punctuation:  # 4. Удаление знаков пункуации\n",
    "        if punct in message:\n",
    "            message = message.replace(punct, \" \")\n",
    "    \n",
    "    tokenizeMessage = list()\n",
    "    for word in message.split():\n",
    "        if word not in stop_rus and not(word.isdigit()): # 5. 6. Удаление цифр и стоп-слов\n",
    "            tokenizeMessage.append(word)\n",
    "    \n",
    "    if len(tokenizeMessage) > 0: # Избавляемся от пустых сообщений\n",
    "        tokenizeMessage = \" \".join(tokenizeMessage)\n",
    "        # print(tokenizeMessage)\n",
    "        data['text'] = tokenizeMessage\n",
    "        data.update(data)\n",
    "        json.dump({\"author\" : data['author'], \"text\" : data['text'], \"gender\" : data[\"gender\"]}, output, ensure_ascii=False)\n",
    "        output.write('\\n')\n",
    "        \n",
    "\n",
    "print(\"start\")\n",
    "start = time.time()\n",
    "\n",
    "# number = 0\n",
    "with open('clean_gender_messages.jsonlines', 'w',  encoding='utf-8') as output:\n",
    "    for line in open('gender_messages.jsonlines', 'r', encoding='utf-8'):\n",
    "        process_data_messages(line, output)\n",
    "    # number += 1\n",
    "    # if (number == 1000):\n",
    "      #  break\n",
    "            \n",
    "end = time.time()\n",
    "print(\"Time in minutes: \", (end - start) / 60)\n",
    "print(\"end\")"
   ]
  },
  {
   "cell_type": "markdown",
   "metadata": {},
   "source": [
    "Выполняем лексикографическую сортировку с помощью консольной команды:"
   ]
  },
  {
   "cell_type": "markdown",
   "metadata": {},
   "source": [
    "```sort -V clean_gender_messages.jsonlines > sorted_clean_gender_messages.jsonlines```"
   ]
  },
  {
   "cell_type": "markdown",
   "metadata": {},
   "source": [
    "Выполняем конкатенацию сообщений для одного автора. Это нужно, чтобы увеличить вектор признаков. Опытным путём было также установлено, что конкатенация сообщений одного автора дает больший score"
   ]
  },
  {
   "cell_type": "code",
   "execution_count": 119,
   "metadata": {},
   "outputs": [
    {
     "name": "stdout",
     "output_type": "stream",
     "text": [
      "start\n",
      "Time in minutes:  3.4715959151585896\n",
      "end\n"
     ]
    }
   ],
   "source": [
    "import json\n",
    "import time\n",
    "\n",
    "cache_data = dict()\n",
    "\n",
    "print(\"start\")\n",
    "start = time.time()\n",
    "\n",
    "with open('concat_sorted_clean_gender_messages.jsonlines', 'w',  encoding='utf-8') as output:\n",
    "    with open('sorted_clean_gender_messages.jsonlines', 'r', encoding='utf-8') as inputFile:\n",
    "        cache_data = json.loads(inputFile.readline())\n",
    "        for line in inputFile:\n",
    "            data = json.loads(line)\n",
    "            if (cache_data[\"author\"] == data[\"author\"]):\n",
    "                cache_data[\"text\"] += (\" \" + data[\"text\"])\n",
    "            else:\n",
    "                json.dump({\"text\" : cache_data[\"text\"], \"gender\" : cache_data[\"gender\"]}, output, ensure_ascii=False)\n",
    "                output.write('\\n')\n",
    "                cache_data = data\n",
    "        \n",
    "\n",
    "end = time.time()\n",
    "print(\"Time in minutes: \", (end - start) / 60)\n",
    "print(\"end\")"
   ]
  },
  {
   "cell_type": "code",
   "execution_count": 22,
   "metadata": {
    "scrolled": true
   },
   "outputs": [],
   "source": [
    "import pandas as pd\n",
    "\n",
    "\n",
    "rows_list = process_data('concat_sorted_clean_gender_messages.jsonlines', 3000)          \n",
    "df = pd.DataFrame(rows_list)"
   ]
  },
  {
   "cell_type": "markdown",
   "metadata": {},
   "source": [
    "Для извлечния набора признаков используется TfidfVectorizer. \n",
    "tf–idf - это сокращение от term frequency–inverse document frequency.\n",
    "tf — отношение числа вхождений некоторого слова к общему числу слов документа.\n",
    "idf — инверсия частоты, с которой некоторое слово встречается в документах коллекции. "
   ]
  },
  {
   "cell_type": "code",
   "execution_count": 23,
   "metadata": {},
   "outputs": [],
   "source": [
    "from sklearn.feature_extraction.text import TfidfVectorizer\n",
    "from sklearn.preprocessing import LabelEncoder\n",
    "\n",
    "vectorizer = TfidfVectorizer()\n",
    "X_Tfid = vectorizer.fit_transform(df['text'])\n",
    "\n",
    "le = LabelEncoder()\n",
    "y = le.fit_transform(df['gender'])"
   ]
  },
  {
   "cell_type": "markdown",
   "metadata": {},
   "source": [
    "В качестве классификатора используется наивный байесовский классифифкатор - вероятностный классификатор основанный на применении теоремы Байеса. \n",
    "\n",
    "Также использовалась логистическая регрессия — статистическая модель, используемая для прогнозирования вероятности возникновения некоторого события путём подгонки данных к логистической кривой.\n",
    "\n",
    "Логистическая кривая имеет вид:\n",
    "\n",
    "$f(x) = \\frac{1}{1 + e^{-x}}$"
   ]
  },
  {
   "cell_type": "markdown",
   "metadata": {},
   "source": [
    "Для начала построим кривые обучения на небольщом датасете, чтобы посмотреть, как показывают себя модели и есть ли смысл увеличивать количество данных."
   ]
  },
  {
   "cell_type": "code",
   "execution_count": 72,
   "metadata": {},
   "outputs": [
    {
     "data": {
      "text/plain": [
       "<module 'matplotlib.pyplot' from 'C:\\\\Users\\\\Mich4\\\\Anaconda3\\\\lib\\\\site-packages\\\\matplotlib\\\\pyplot.py'>"
      ]
     },
     "execution_count": 72,
     "metadata": {},
     "output_type": "execute_result"
    },
    {
     "data": {
      "image/png": "[encoded data removed]",
      "text/plain": [
       "<Figure size 432x288 with 1 Axes>"
      ]
     },
     "metadata": {
      "needs_background": "light"
     },
     "output_type": "display_data"
    }
   ],
   "source": [
    "title = \"Learning Curves (LogisticRegression)\"\n",
    "\n",
    "# Cross validation with 100 iterations to get smoother mean test and train\n",
    "# score curves, each time with 20% data randomly selected as a validation set.\n",
    "cv = ShuffleSplit(n_splits=100, test_size=0.2, random_state=0)\n",
    "\n",
    "estimator = LogisticRegression()\n",
    "plot_learning_curve(estimator, title, X_Tfid, y, ylim=(0.5, 1.01), cv=cv, n_jobs=4)"
   ]
  },
  {
   "cell_type": "markdown",
   "metadata": {},
   "source": [
    "По данному графику видно, что увеличение размера датасета должно положительно сказаться на точности предсказаний."
   ]
  },
  {
   "cell_type": "code",
   "execution_count": 24,
   "metadata": {},
   "outputs": [
    {
     "data": {
      "text/plain": [
       "<module 'matplotlib.pyplot' from 'C:\\\\Users\\\\Mich4\\\\Anaconda3\\\\lib\\\\site-packages\\\\matplotlib\\\\pyplot.py'>"
      ]
     },
     "execution_count": 24,
     "metadata": {},
     "output_type": "execute_result"
    },
    {
     "data": {
      "image/png": "[encoded data removed]",
      "text/plain": [
       "<Figure size 432x288 with 1 Axes>"
      ]
     },
     "metadata": {
      "needs_background": "light"
     },
     "output_type": "display_data"
    }
   ],
   "source": [
    "title = \"Learning Curves (Naive Bayes)\"\n",
    "\n",
    "# Cross validation with 100 iterations to get smoother mean test and train\n",
    "# score curves, each time with 20% data randomly selected as a validation set.\n",
    "cv = ShuffleSplit(n_splits=100, test_size=0.2, random_state=0)\n",
    "\n",
    "estimator = MultinomialNB()\n",
    "plot_learning_curve(estimator, title, X_Tfid, y, ylim=(0.5, 1.01), cv=cv, n_jobs=4)"
   ]
  },
  {
   "cell_type": "markdown",
   "metadata": {},
   "source": [
    "По данному графику видно, что увеличение размера датасета должно положительно сказаться на точности предсказаний."
   ]
  },
  {
   "cell_type": "markdown",
   "metadata": {},
   "source": [
    "Посмотрим какие предсказание получаются на большем датасете:"
   ]
  },
  {
   "cell_type": "code",
   "execution_count": 25,
   "metadata": {},
   "outputs": [],
   "source": [
    "rows_list = process_data('concat_sorted_clean_gender_messages.jsonlines', 2000000)          \n",
    "df = pd.DataFrame(rows_list)\n",
    "\n",
    "X = df['text']\n",
    "y = df['gender']"
   ]
  },
  {
   "cell_type": "code",
   "execution_count": 26,
   "metadata": {},
   "outputs": [],
   "source": [
    "vectorizer = TfidfVectorizer()\n",
    "X_Tfid = vectorizer.fit_transform(X)"
   ]
  },
  {
   "cell_type": "code",
   "execution_count": 27,
   "metadata": {},
   "outputs": [
    {
     "name": "stdout",
     "output_type": "stream",
     "text": [
      "start\n",
      "Scores [0.85137707 0.85085957 0.85029535]\n",
      "Mean scores: 0.850844\n",
      "Time in minutes:  3.187295202414195\n",
      "end\n"
     ]
    }
   ],
   "source": [
    "run(LogisticRegression(), X_Tfid, y)"
   ]
  },
  {
   "cell_type": "code",
   "execution_count": 28,
   "metadata": {},
   "outputs": [
    {
     "name": "stdout",
     "output_type": "stream",
     "text": [
      "start\n",
      "Scores [0.82098409 0.81994159 0.81988732]\n",
      "Mean scores: 0.820271\n",
      "Time in minutes:  0.3903646151224772\n",
      "end\n"
     ]
    }
   ],
   "source": [
    "run(MultinomialNB(), X_Tfid, y)"
   ]
  },
  {
   "cell_type": "markdown",
   "metadata": {},
   "source": [
    "Теперь рассмотрим другой метод извлечения признаков - N-граммы. N-грамма — это последовательность из n элементов. \n",
    "Это может быть последовательность звуков, слогов, слов или букв, что позволяет использовать их для моей задачи.\n",
    "\n",
    "Применим N-граммы на небольшой выборке и посмотрим, как поведут себя графики:"
   ]
  },
  {
   "cell_type": "code",
   "execution_count": 8,
   "metadata": {},
   "outputs": [],
   "source": [
    "rows_list = process_data('concat_sorted_clean_gender_messages.jsonlines', 1000)          \n",
    "df = pd.DataFrame(rows_list)\n",
    "\n",
    "X = df['text']\n",
    "y = df['gender']"
   ]
  },
  {
   "cell_type": "code",
   "execution_count": 9,
   "metadata": {},
   "outputs": [],
   "source": [
    "from sklearn.feature_extraction.text import CountVectorizer\n",
    "\n",
    "vectorizer = CountVectorizer(max_df = 0.4, ngram_range=(1, 2)) \n",
    "X_CountVect = vectorizer.fit_transform(X)"
   ]
  },
  {
   "cell_type": "code",
   "execution_count": 16,
   "metadata": {},
   "outputs": [
    {
     "data": {
      "text/plain": [
       "<module 'matplotlib.pyplot' from 'C:\\\\Users\\\\Mich4\\\\Anaconda3\\\\lib\\\\site-packages\\\\matplotlib\\\\pyplot.py'>"
      ]
     },
     "execution_count": 16,
     "metadata": {},
     "output_type": "execute_result"
    },
    {
     "data": {
      "image/png": "[encoded data removed]",
      "text/plain": [
       "<Figure size 432x288 with 1 Axes>"
      ]
     },
     "metadata": {
      "needs_background": "light"
     },
     "output_type": "display_data"
    }
   ],
   "source": [
    "title = \"Learning Curves (LogisticRegression)\"\n",
    "\n",
    "# Cross validation with 100 iterations to get smoother mean test and train\n",
    "# score curves, each time with 20% data randomly selected as a validation set.\n",
    "cv = ShuffleSplit(n_splits=100, test_size=0.2, random_state=0)\n",
    "\n",
    "estimator = LogisticRegression()\n",
    "plot_learning_curve(estimator, title, X_CountVect, y, ylim=(0.5, 1.01), cv=cv, n_jobs=4)"
   ]
  },
  {
   "cell_type": "markdown",
   "metadata": {},
   "source": [
    "По данному графику видно, что увеличение размера датасета должно положительно сказаться на точности предсказаний."
   ]
  },
  {
   "cell_type": "code",
   "execution_count": 115,
   "metadata": {},
   "outputs": [
    {
     "data": {
      "text/plain": [
       "<module 'matplotlib.pyplot' from 'C:\\\\Users\\\\Mich4\\\\Anaconda3\\\\lib\\\\site-packages\\\\matplotlib\\\\pyplot.py'>"
      ]
     },
     "execution_count": 115,
     "metadata": {},
     "output_type": "execute_result"
    },
    {
     "data": {
      "image/png": "[encoded data removed]",
      "text/plain": [
       "<Figure size 432x288 with 1 Axes>"
      ]
     },
     "metadata": {
      "needs_background": "light"
     },
     "output_type": "display_data"
    }
   ],
   "source": [
    "title = \"Learning Curves (Naive Bayes)\"\n",
    "\n",
    "# Cross validation with 100 iterations to get smoother mean test and train\n",
    "# score curves, each time with 20% data randomly selected as a validation set.\n",
    "cv = ShuffleSplit(n_splits=100, test_size=0.2, random_state=0)\n",
    "\n",
    "estimator = MultinomialNB()\n",
    "plot_learning_curve(estimator, title, X_CountVect, y, ylim=(0.5, 1.01), cv=cv, n_jobs=4)"
   ]
  },
  {
   "cell_type": "markdown",
   "metadata": {},
   "source": [
    "По данному графику видно, что увеличение размера датасета должно положительно сказаться на точности предсказаний."
   ]
  },
  {
   "cell_type": "markdown",
   "metadata": {},
   "source": [
    "Посмотрим какие предсказание получаются на большем датасете:"
   ]
  },
  {
   "cell_type": "code",
   "execution_count": 17,
   "metadata": {},
   "outputs": [],
   "source": [
    "rows_list = process_data('concat_sorted_clean_gender_messages.jsonlines', 200000)          \n",
    "df = pd.DataFrame(rows_list)\n",
    "\n",
    "X = df['text']\n",
    "y = df['gender']"
   ]
  },
  {
   "cell_type": "code",
   "execution_count": 18,
   "metadata": {},
   "outputs": [],
   "source": [
    "vectorizer = CountVectorizer(max_df = 0.4, ngram_range=(1, 2)) \n",
    "X_CountVect = vectorizer.fit_transform(X)"
   ]
  },
  {
   "cell_type": "code",
   "execution_count": 19,
   "metadata": {},
   "outputs": [
    {
     "name": "stdout",
     "output_type": "stream",
     "text": [
      "start\n",
      "Scores [0.80377098 0.80915595 0.81947319]\n",
      "Mean scores: 0.810800\n",
      "Time in minutes:  10.501063080628713\n",
      "end\n"
     ]
    }
   ],
   "source": [
    "run(LogisticRegression(), X_CountVect, y)"
   ]
  },
  {
   "cell_type": "code",
   "execution_count": 20,
   "metadata": {},
   "outputs": [
    {
     "name": "stdout",
     "output_type": "stream",
     "text": [
      "start\n",
      "Scores [0.82783086 0.82826586 0.82592326]\n",
      "Mean scores: 0.827340\n",
      "Time in minutes:  0.07364148696263631\n",
      "end\n"
     ]
    }
   ],
   "source": [
    "run(MultinomialNB(), X_CountVect, y)"
   ]
  },
  {
   "cell_type": "markdown",
   "metadata": {},
   "source": [
    "#### Выводы\n",
    "\n",
    "Результаты тестов говорят о том, что лучше всего для решения данной задачи подходит логистическая регрессия с использовванием tf-idf (0.85).\n",
    "\n",
    "Однако стоит отметить, что на втором месте оказался наивный байесовский классификатор с использованием биграм или tf-idf (0.82 - 0.83).\n",
    "К тому же работает он значительно быстрее. Это может сделать его более предпочтительным вариантом для решения такого рода задач, так как, основываясь на показания графиков, можно утверждать, что увеличение количества данных в любом случае приведет к увеличению точности предсказаний.\n",
    "\n",
    "Тем интереснее тот факт, что в основе данного классификатора лежит простая теорема теорема Байеса:\n",
    "$P(A|B) = \\frac{P(B|A)*P(A)}{P(B)}$"
   ]
  },
  {
   "cell_type": "code",
   "execution_count": null,
   "metadata": {},
   "outputs": [],
   "source": []
  }
 ],
 "metadata": {
  "kernelspec": {
   "display_name": "Python 3",
   "language": "python",
   "name": "python3"
  },
  "language_info": {
   "codemirror_mode": {
    "name": "ipython",
    "version": 3
   },
   "file_extension": ".py",
   "mimetype": "text/x-python",
   "name": "python",
   "nbconvert_exporter": "python",
   "pygments_lexer": "ipython3",
   "version": "3.7.3"
  }
 },
 "nbformat": 4,
 "nbformat_minor": 2
}
